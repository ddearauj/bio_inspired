{
 "cells": [
  {
   "cell_type": "code",
   "execution_count": 140,
   "metadata": {},
   "outputs": [],
   "source": [
    "import numpy as np\n",
    "from random import randint\n",
    "\n",
    "class N_Queens_Board(object):\n",
    "    \"\"\"docstring for N_Queens\"\"\"\n",
    "    def __init__(self, size, board=None):\n",
    "        self.size = size\n",
    "        if board is None:\n",
    "            self._create_random_board_state()\n",
    "        else:\n",
    "            self.board = board\n",
    "\n",
    "    def __repr__(self):\n",
    "        return self.__class__.__name__ + \"\\n\" + str(self.board)\n",
    "\n",
    "\n",
    "    def _place_queen(self):\n",
    "        \"\"\" There might be a better way but since the matrix is super sparse, i think this is fine \"\"\"\n",
    "        \n",
    "        queen_placed = False\n",
    "        while not queen_placed:\n",
    "            queen_placement = (randint(0, self.size -1), randint(0, self.size -1))\n",
    "            if  self.board[queen_placement[0]][queen_placement[1]] == 0:\n",
    "                self.board[queen_placement[0]][queen_placement[1]] = 1\n",
    "                queen_placed = True\n",
    "\n",
    "\n",
    "    def _create_random_board_state(self):\n",
    "        self.board = np.zeros((self.size, self.size))\n",
    "        for i in range(self.size):\n",
    "            self._place_queen()\n",
    "\n",
    "\n",
    "    def calculate_fitness(self):\n",
    "        \"\"\" \n",
    "        For every extra queen in the line of attack, we subtract one on the fitness.\n",
    "        If there is 3 queens in a line, we subtract two, in order to make the calculatins simple\n",
    "        Another fitness function could be the number of attacks, which, in the case of 3 queens in\n",
    "        a single row would be -3 (A->B, A->C and B->C). I might compare the two later on\n",
    "        \"\"\"\n",
    "\n",
    "        extras_in_row = np.sum(self.board, axis=1)\n",
    "        extras_in_row = extras_in_row[extras_in_row > 1] - 1\n",
    "        n_extras = extras_in_row.sum()\n",
    "\n",
    "\n",
    "        extras_in_col = np.sum(self.board, axis=0)\n",
    "        extras_in_col = extras_in_col[extras_in_col > 1] - 1\n",
    "        n_extras += extras_in_col.sum()\n",
    "\n",
    "        # diagonal check\n",
    "\n",
    "        for i in range(-self.size+1, self.size):\n",
    "            diag_extras = np.trace(self.board, offset=i)\n",
    "            if diag_extras > 0:\n",
    "                n_extras += diag_extras - 1\n",
    "\n",
    "        # reverse diagonal check\n",
    "\n",
    "        rev = self.board[:, ::-1]\n",
    "        for i in range(-self.size+1, self.size):\n",
    "            rev_diag_extras = np.trace(rev, offset=i)\n",
    "            if rev_diag_extras > 0:\n",
    "                n_extras += rev_diag_extras - 1\n",
    "\n",
    "\n",
    "        self.fitness = (-1)*n_extras\n",
    "        \n",
    "\n",
    "    def mutate(self):\n",
    "\n",
    "        \"\"\"\n",
    "        Switches the position of a random selected queen\n",
    "        \"\"\"\n",
    "\n",
    "        # find the queens coordinates\n",
    "        queens_coordinates = np.argwhere(self.board > 0)\n",
    "        mutated_queen_coordinate = queens_coordinates[randint(0, self.size - 1)]\n",
    "        self.board[mutated_queen_coordinate[0]][mutated_queen_coordinate[1]] = 0\n",
    "        self._place_queen()\n",
    "\n",
    "\n",
    "    def crossover(self, other):\n",
    "\n",
    "        parent1_coords = np.argwhere(self.board  > 0)\n",
    "        parent2_coords = np.argwhere(other.board > 0)\n",
    "\n",
    "        # we want to crossover only on the unique values.\n",
    "        # so first, we find the coordinates present in both parents\n",
    "\n",
    "        both_coords = np.vstack([parent1_coords, parent2_coords])\n",
    "        unique_rows, count = np.unique(both_coords, axis=0, return_counts=True)\n",
    "        dupl_coords = unique_rows[count > 1]\n",
    "\n",
    "        # now, we will removethe dupl_coords from the parents\n",
    "\n",
    "        parent1_coords_set = set([tuple(row) for row in parent1_coords])\n",
    "        parent2_coords_set = set([tuple(row) for row in parent2_coords])\n",
    "        dupl_coords_set    = set([tuple(row) for row in dupl_coords])\n",
    "\n",
    "\n",
    "        # parents now have no overlapping coordinates\n",
    "        parent1_coords = np.array([row for row in parent1_coords_set if row not in dupl_coords_set])\n",
    "        parent2_coords = np.array([row for row in parent2_coords_set if row not in dupl_coords_set])\n",
    "\n",
    "        if parent2_coords.shape[0] > 1 :\n",
    "\n",
    "            crossover_point = randint(1, parent2_coords.shape[0] - 1)\n",
    "            \n",
    "            try:\n",
    "\n",
    "                child1_coords = np.vstack([dupl_coords, parent1_coords[:crossover_point], parent2_coords[crossover_point:]])\n",
    "                child2_coords = np.vstack([dupl_coords, parent2_coords[:crossover_point], parent1_coords[crossover_point:]])\n",
    "            except:\n",
    "                print(\"ERROR\")\n",
    "                print(\"Duplicate coords : \", end=\"\")\n",
    "                print(dupl_coords)\n",
    "                print(\"Crossover Point : \", end=\"\")\n",
    "                print(crossover_point)\n",
    "                print(\"Parent1_unique : \", end=\"\")\n",
    "                print(parent1_coords)\n",
    "                print(\"parent2_unique : \", end=\"\")\n",
    "                print(parent2_coords)\n",
    "                print(\"Parent1 : \")\n",
    "                print(np.argwhere(self.board  > 0))\n",
    "                print(\"parent2\")\n",
    "                print(np.argwhere(other.board  > 0))\n",
    "\n",
    "            # generate boards\n",
    "\n",
    "            child1_board = np.zeros((self.size,self.size))\n",
    "            for coord in child1_coords:\n",
    "                child1_board[coord[0]][coord[1]] = 1\n",
    "\n",
    "            child2_board = np.zeros((self.size,self.size))\n",
    "            for coord in child2_coords:\n",
    "                child2_board[coord[0]][coord[1]] = 1\n",
    "\n",
    "            return N_Queens_Board(self.size, board=child1_board), N_Queens_Board(self.size, board=child2_board) \n",
    "\n",
    "        else:\n",
    "            # parents are identical\n",
    "            return self, other\n",
    "\n",
    "\n"
   ]
  },
  {
   "cell_type": "code",
   "execution_count": 141,
   "metadata": {},
   "outputs": [],
   "source": [
    "from random import randint\n",
    "from random import sample as random_sample\n",
    "\n",
    "class Population(object):\n",
    "    \"\"\"docstring for Pouplation\"\"\"\n",
    "    def __init__(self, population, mutation_prob, crossover_prob):\n",
    "        self.population = population\n",
    "        self.size = len(population)\n",
    "        self.mutation_prob = mutation_prob\n",
    "        self.crossover_prob = crossover_prob\n",
    "\n",
    "    def calculate_fitness(self):\n",
    "        for individual in self.population:\n",
    "            individual.calculate_fitness()\n",
    "\n",
    "\n",
    "    def mutate(self):\n",
    "        for individual in self.population:\n",
    "            if randint(0, 100) <= self.mutation_prob:\n",
    "                individual.mutate()\n",
    "\n",
    "\n",
    "    def crossover(self, selection_params):\n",
    "        children = []\n",
    "\n",
    "        # here we will generate a new population\n",
    "        while len(children) < self.size:\n",
    "            \n",
    "            parent1 = self.select(selection_params)\n",
    "            parent2 = self.select(selection_params)\n",
    "            \n",
    "            # if they are selected for a crossover, do it\n",
    "            # otherwise, just add the parents to the next population (the childern list)\n",
    "            if randint(0, 100) <= self.crossover_prob:\n",
    "                child1, child2 = parent1.crossover(parent2)\n",
    "                children.append(child1)\n",
    "                children.append(child2)\n",
    "            else:\n",
    "                children.append(parent1)\n",
    "                children.append(parent2)\n",
    "\n",
    "        self.population = children\n",
    "\n",
    "\n",
    "    def _tournament(self, params):\n",
    "\n",
    "        competitors = random_sample(self.population, params['n_competitors'])\n",
    "\n",
    "        fitness_to_beat = competitors[0].fitness\n",
    "        winner = competitors[0]\n",
    "\n",
    "        for competitor in competitors:\n",
    "            if competitor.fitness > fitness_to_beat:\n",
    "                winner = competitor\n",
    "            \n",
    "        return winner\n",
    "\n",
    "\n",
    "    def select(self, selection_params):\n",
    "\n",
    "\n",
    "        if selection_params[\"type\"] == \"tournament\":\n",
    "            return self._tournament(selection_params)\n",
    "        \n",
    "    def sort_pop(self):\n",
    "        self.population.sort(key=lambda x: x.fitness, reverse=True)\n"
   ]
  },
  {
   "cell_type": "code",
   "execution_count": 142,
   "metadata": {},
   "outputs": [
    {
     "name": "stdout",
     "output_type": "stream",
     "text": [
      "N_Queens_Board\n",
      "[[0. 0. 0. 0. 1. 0. 0. 0.]\n",
      " [0. 0. 0. 0. 0. 0. 0. 0.]\n",
      " [1. 0. 0. 0. 0. 0. 0. 0.]\n",
      " [1. 0. 1. 1. 0. 0. 0. 0.]\n",
      " [1. 0. 0. 0. 0. 0. 0. 0.]\n",
      " [0. 0. 0. 0. 0. 1. 1. 0.]\n",
      " [0. 0. 0. 0. 0. 0. 0. 0.]\n",
      " [0. 0. 0. 0. 0. 0. 0. 0.]]\n"
     ]
    }
   ],
   "source": [
    "population = []\n",
    "for i in range(300):\n",
    "    population.append(N_Queens_Board(8))\n",
    "\n",
    "print(population[3])"
   ]
  },
  {
   "cell_type": "code",
   "execution_count": 143,
   "metadata": {},
   "outputs": [],
   "source": [
    "def evo(Pop, iterations):\n",
    "    for i in range(iterations):\n",
    "        Pop.calculate_fitness()\n",
    "        if i%10 == 0:\n",
    "            print(i)\n",
    "            Pop.sort_pop()\n",
    "            if Pop.population[0].fitness > -1.0:\n",
    "                break\n",
    "            else:\n",
    "                print(Pop.population[0].fitness)\n",
    "        Pop.crossover({\"type\":\"tournament\", \"n_competitors\": 30})\n",
    "        Pop.mutate()\n",
    "    return Pop"
   ]
  },
  {
   "cell_type": "code",
   "execution_count": 144,
   "metadata": {},
   "outputs": [],
   "source": [
    "Pop = Population(population, 30, 90)"
   ]
  },
  {
   "cell_type": "code",
   "execution_count": 145,
   "metadata": {},
   "outputs": [
    {
     "name": "stdout",
     "output_type": "stream",
     "text": [
      "0\n",
      "-4.0\n",
      "10\n",
      "-2.0\n",
      "20\n",
      "-2.0\n",
      "30\n",
      "-2.0\n",
      "40\n",
      "-2.0\n",
      "50\n",
      "-2.0\n",
      "60\n",
      "-2.0\n",
      "70\n",
      "-2.0\n",
      "80\n",
      "-2.0\n",
      "90\n",
      "-2.0\n",
      "100\n",
      "-2.0\n",
      "110\n",
      "-2.0\n",
      "120\n",
      "-2.0\n",
      "130\n",
      "-2.0\n",
      "140\n",
      "-2.0\n",
      "150\n",
      "-2.0\n",
      "160\n",
      "-2.0\n",
      "170\n",
      "-2.0\n",
      "180\n",
      "-2.0\n",
      "190\n",
      "-2.0\n",
      "200\n",
      "-2.0\n",
      "210\n",
      "-2.0\n",
      "220\n",
      "-2.0\n",
      "230\n",
      "-2.0\n",
      "240\n",
      "-1.0\n",
      "250\n",
      "-1.0\n",
      "260\n",
      "-1.0\n",
      "270\n",
      "-1.0\n",
      "280\n",
      "-1.0\n",
      "290\n",
      "-1.0\n",
      "300\n",
      "-1.0\n",
      "310\n",
      "-1.0\n",
      "320\n",
      "-1.0\n",
      "330\n",
      "-1.0\n",
      "340\n",
      "-1.0\n",
      "350\n",
      "-1.0\n"
     ]
    },
    {
     "ename": "KeyboardInterrupt",
     "evalue": "",
     "output_type": "error",
     "traceback": [
      "\u001b[1;31m---------------------------------------------------------------------------\u001b[0m",
      "\u001b[1;31mKeyboardInterrupt\u001b[0m                         Traceback (most recent call last)",
      "\u001b[1;32m<ipython-input-145-8fe05d6e58ee>\u001b[0m in \u001b[0;36m<module>\u001b[1;34m\u001b[0m\n\u001b[1;32m----> 1\u001b[1;33m \u001b[0mPop\u001b[0m \u001b[1;33m=\u001b[0m \u001b[0mevo\u001b[0m\u001b[1;33m(\u001b[0m\u001b[0mPop\u001b[0m\u001b[1;33m,\u001b[0m \u001b[1;36m1000\u001b[0m\u001b[1;33m)\u001b[0m\u001b[1;33m\u001b[0m\u001b[1;33m\u001b[0m\u001b[0m\n\u001b[0m",
      "\u001b[1;32m<ipython-input-143-b8d7450e38e2>\u001b[0m in \u001b[0;36mevo\u001b[1;34m(Pop, iterations)\u001b[0m\n\u001b[0;32m      1\u001b[0m \u001b[1;32mdef\u001b[0m \u001b[0mevo\u001b[0m\u001b[1;33m(\u001b[0m\u001b[0mPop\u001b[0m\u001b[1;33m,\u001b[0m \u001b[0miterations\u001b[0m\u001b[1;33m)\u001b[0m\u001b[1;33m:\u001b[0m\u001b[1;33m\u001b[0m\u001b[1;33m\u001b[0m\u001b[0m\n\u001b[0;32m      2\u001b[0m     \u001b[1;32mfor\u001b[0m \u001b[0mi\u001b[0m \u001b[1;32min\u001b[0m \u001b[0mrange\u001b[0m\u001b[1;33m(\u001b[0m\u001b[0miterations\u001b[0m\u001b[1;33m)\u001b[0m\u001b[1;33m:\u001b[0m\u001b[1;33m\u001b[0m\u001b[1;33m\u001b[0m\u001b[0m\n\u001b[1;32m----> 3\u001b[1;33m         \u001b[0mPop\u001b[0m\u001b[1;33m.\u001b[0m\u001b[0mcalculate_fitness\u001b[0m\u001b[1;33m(\u001b[0m\u001b[1;33m)\u001b[0m\u001b[1;33m\u001b[0m\u001b[1;33m\u001b[0m\u001b[0m\n\u001b[0m\u001b[0;32m      4\u001b[0m         \u001b[1;32mif\u001b[0m \u001b[0mi\u001b[0m\u001b[1;33m%\u001b[0m\u001b[1;36m10\u001b[0m \u001b[1;33m==\u001b[0m \u001b[1;36m0\u001b[0m\u001b[1;33m:\u001b[0m\u001b[1;33m\u001b[0m\u001b[1;33m\u001b[0m\u001b[0m\n\u001b[0;32m      5\u001b[0m             \u001b[0mprint\u001b[0m\u001b[1;33m(\u001b[0m\u001b[0mi\u001b[0m\u001b[1;33m)\u001b[0m\u001b[1;33m\u001b[0m\u001b[1;33m\u001b[0m\u001b[0m\n",
      "\u001b[1;32m<ipython-input-141-00a88d7fced5>\u001b[0m in \u001b[0;36mcalculate_fitness\u001b[1;34m(self)\u001b[0m\n\u001b[0;32m     12\u001b[0m     \u001b[1;32mdef\u001b[0m \u001b[0mcalculate_fitness\u001b[0m\u001b[1;33m(\u001b[0m\u001b[0mself\u001b[0m\u001b[1;33m)\u001b[0m\u001b[1;33m:\u001b[0m\u001b[1;33m\u001b[0m\u001b[1;33m\u001b[0m\u001b[0m\n\u001b[0;32m     13\u001b[0m         \u001b[1;32mfor\u001b[0m \u001b[0mindividual\u001b[0m \u001b[1;32min\u001b[0m \u001b[0mself\u001b[0m\u001b[1;33m.\u001b[0m\u001b[0mpopulation\u001b[0m\u001b[1;33m:\u001b[0m\u001b[1;33m\u001b[0m\u001b[1;33m\u001b[0m\u001b[0m\n\u001b[1;32m---> 14\u001b[1;33m             \u001b[0mindividual\u001b[0m\u001b[1;33m.\u001b[0m\u001b[0mcalculate_fitness\u001b[0m\u001b[1;33m(\u001b[0m\u001b[1;33m)\u001b[0m\u001b[1;33m\u001b[0m\u001b[1;33m\u001b[0m\u001b[0m\n\u001b[0m\u001b[0;32m     15\u001b[0m \u001b[1;33m\u001b[0m\u001b[0m\n\u001b[0;32m     16\u001b[0m \u001b[1;33m\u001b[0m\u001b[0m\n",
      "\u001b[1;32m<ipython-input-140-5447251860b2>\u001b[0m in \u001b[0;36mcalculate_fitness\u001b[1;34m(self)\u001b[0m\n\u001b[0;32m     52\u001b[0m \u001b[1;33m\u001b[0m\u001b[0m\n\u001b[0;32m     53\u001b[0m         \u001b[1;32mfor\u001b[0m \u001b[0mi\u001b[0m \u001b[1;32min\u001b[0m \u001b[0mrange\u001b[0m\u001b[1;33m(\u001b[0m\u001b[1;33m-\u001b[0m\u001b[0mself\u001b[0m\u001b[1;33m.\u001b[0m\u001b[0msize\u001b[0m\u001b[1;33m+\u001b[0m\u001b[1;36m1\u001b[0m\u001b[1;33m,\u001b[0m \u001b[0mself\u001b[0m\u001b[1;33m.\u001b[0m\u001b[0msize\u001b[0m\u001b[1;33m)\u001b[0m\u001b[1;33m:\u001b[0m\u001b[1;33m\u001b[0m\u001b[1;33m\u001b[0m\u001b[0m\n\u001b[1;32m---> 54\u001b[1;33m             \u001b[0mdiag_extras\u001b[0m \u001b[1;33m=\u001b[0m \u001b[0mnp\u001b[0m\u001b[1;33m.\u001b[0m\u001b[0mtrace\u001b[0m\u001b[1;33m(\u001b[0m\u001b[0mself\u001b[0m\u001b[1;33m.\u001b[0m\u001b[0mboard\u001b[0m\u001b[1;33m,\u001b[0m \u001b[0moffset\u001b[0m\u001b[1;33m=\u001b[0m\u001b[0mi\u001b[0m\u001b[1;33m)\u001b[0m\u001b[1;33m\u001b[0m\u001b[1;33m\u001b[0m\u001b[0m\n\u001b[0m\u001b[0;32m     55\u001b[0m             \u001b[1;32mif\u001b[0m \u001b[0mdiag_extras\u001b[0m \u001b[1;33m>\u001b[0m \u001b[1;36m0\u001b[0m\u001b[1;33m:\u001b[0m\u001b[1;33m\u001b[0m\u001b[1;33m\u001b[0m\u001b[0m\n\u001b[0;32m     56\u001b[0m                 \u001b[0mn_extras\u001b[0m \u001b[1;33m+=\u001b[0m \u001b[0mdiag_extras\u001b[0m \u001b[1;33m-\u001b[0m \u001b[1;36m1\u001b[0m\u001b[1;33m\u001b[0m\u001b[1;33m\u001b[0m\u001b[0m\n",
      "\u001b[1;32mc:\\users\\danie\\appdata\\local\\programs\\python\\python36\\lib\\site-packages\\numpy\\core\\fromnumeric.py\u001b[0m in \u001b[0;36mtrace\u001b[1;34m(a, offset, axis1, axis2, dtype, out)\u001b[0m\n\u001b[0;32m   1466\u001b[0m         \u001b[1;32mreturn\u001b[0m \u001b[0masarray\u001b[0m\u001b[1;33m(\u001b[0m\u001b[0ma\u001b[0m\u001b[1;33m)\u001b[0m\u001b[1;33m.\u001b[0m\u001b[0mtrace\u001b[0m\u001b[1;33m(\u001b[0m\u001b[0moffset\u001b[0m\u001b[1;33m=\u001b[0m\u001b[0moffset\u001b[0m\u001b[1;33m,\u001b[0m \u001b[0maxis1\u001b[0m\u001b[1;33m=\u001b[0m\u001b[0maxis1\u001b[0m\u001b[1;33m,\u001b[0m \u001b[0maxis2\u001b[0m\u001b[1;33m=\u001b[0m\u001b[0maxis2\u001b[0m\u001b[1;33m,\u001b[0m \u001b[0mdtype\u001b[0m\u001b[1;33m=\u001b[0m\u001b[0mdtype\u001b[0m\u001b[1;33m,\u001b[0m \u001b[0mout\u001b[0m\u001b[1;33m=\u001b[0m\u001b[0mout\u001b[0m\u001b[1;33m)\u001b[0m\u001b[1;33m\u001b[0m\u001b[1;33m\u001b[0m\u001b[0m\n\u001b[0;32m   1467\u001b[0m     \u001b[1;32melse\u001b[0m\u001b[1;33m:\u001b[0m\u001b[1;33m\u001b[0m\u001b[1;33m\u001b[0m\u001b[0m\n\u001b[1;32m-> 1468\u001b[1;33m         \u001b[1;32mreturn\u001b[0m \u001b[0masanyarray\u001b[0m\u001b[1;33m(\u001b[0m\u001b[0ma\u001b[0m\u001b[1;33m)\u001b[0m\u001b[1;33m.\u001b[0m\u001b[0mtrace\u001b[0m\u001b[1;33m(\u001b[0m\u001b[0moffset\u001b[0m\u001b[1;33m=\u001b[0m\u001b[0moffset\u001b[0m\u001b[1;33m,\u001b[0m \u001b[0maxis1\u001b[0m\u001b[1;33m=\u001b[0m\u001b[0maxis1\u001b[0m\u001b[1;33m,\u001b[0m \u001b[0maxis2\u001b[0m\u001b[1;33m=\u001b[0m\u001b[0maxis2\u001b[0m\u001b[1;33m,\u001b[0m \u001b[0mdtype\u001b[0m\u001b[1;33m=\u001b[0m\u001b[0mdtype\u001b[0m\u001b[1;33m,\u001b[0m \u001b[0mout\u001b[0m\u001b[1;33m=\u001b[0m\u001b[0mout\u001b[0m\u001b[1;33m)\u001b[0m\u001b[1;33m\u001b[0m\u001b[1;33m\u001b[0m\u001b[0m\n\u001b[0m\u001b[0;32m   1469\u001b[0m \u001b[1;33m\u001b[0m\u001b[0m\n\u001b[0;32m   1470\u001b[0m \u001b[1;33m\u001b[0m\u001b[0m\n",
      "\u001b[1;31mKeyboardInterrupt\u001b[0m: "
     ]
    }
   ],
   "source": [
    "Pop = evo(Pop, 1000)"
   ]
  },
  {
   "cell_type": "code",
   "execution_count": null,
   "metadata": {},
   "outputs": [],
   "source": [
    "Pop.sort_pop()"
   ]
  },
  {
   "cell_type": "code",
   "execution_count": null,
   "metadata": {},
   "outputs": [],
   "source": [
    "Pop.population[0]"
   ]
  },
  {
   "cell_type": "code",
   "execution_count": null,
   "metadata": {},
   "outputs": [],
   "source": [
    "print(Pop.population[0].fitness)"
   ]
  },
  {
   "cell_type": "code",
   "execution_count": null,
   "metadata": {},
   "outputs": [],
   "source": [
    "Pop.population[1]"
   ]
  },
  {
   "cell_type": "code",
   "execution_count": null,
   "metadata": {},
   "outputs": [],
   "source": [
    "arr = np.arange(5)"
   ]
  },
  {
   "cell_type": "code",
   "execution_count": null,
   "metadata": {},
   "outputs": [],
   "source": [
    "np.random.shuffle(arr)"
   ]
  },
  {
   "cell_type": "code",
   "execution_count": null,
   "metadata": {},
   "outputs": [],
   "source": [
    "arr"
   ]
  },
  {
   "cell_type": "code",
   "execution_count": null,
   "metadata": {},
   "outputs": [],
   "source": [
    "for column, row in enumerate(arr):\n",
    "    print(row, column)"
   ]
  },
  {
   "cell_type": "code",
   "execution_count": 114,
   "metadata": {},
   "outputs": [],
   "source": [
    "import numpy as np\n",
    "p1 = np.arange(7) + 1\n",
    "p2 = np.array([1, 2, 6, 5, 4, 7, 3])"
   ]
  },
  {
   "cell_type": "code",
   "execution_count": 115,
   "metadata": {},
   "outputs": [],
   "source": [
    "crossover_point = 1\n",
    "\n",
    "parent1_left_side  = p1[:crossover_point]\n",
    "parent1_right_side = p1[crossover_point:]\n",
    "\n",
    "parent2_left_side  = p2[:crossover_point]\n",
    "parent2_right_side = p2[crossover_point:]"
   ]
  },
  {
   "cell_type": "code",
   "execution_count": 116,
   "metadata": {},
   "outputs": [
    {
     "data": {
      "text/plain": [
       "array([2, 3, 4, 5, 6, 7])"
      ]
     },
     "execution_count": 116,
     "metadata": {},
     "output_type": "execute_result"
    }
   ],
   "source": [
    "parent1_right_side"
   ]
  },
  {
   "cell_type": "code",
   "execution_count": 117,
   "metadata": {},
   "outputs": [
    {
     "data": {
      "text/plain": [
       "array([1])"
      ]
     },
     "execution_count": 117,
     "metadata": {},
     "output_type": "execute_result"
    }
   ],
   "source": [
    "parent2_left_side"
   ]
  },
  {
   "cell_type": "code",
   "execution_count": 118,
   "metadata": {},
   "outputs": [],
   "source": [
    "filter1 = np.isin(parent1_right_side, parent2_left_side)"
   ]
  },
  {
   "cell_type": "code",
   "execution_count": 119,
   "metadata": {},
   "outputs": [
    {
     "data": {
      "text/plain": [
       "array([False, False, False, False, False, False])"
      ]
     },
     "execution_count": 119,
     "metadata": {},
     "output_type": "execute_result"
    }
   ],
   "source": [
    "filter1"
   ]
  },
  {
   "cell_type": "code",
   "execution_count": 120,
   "metadata": {},
   "outputs": [
    {
     "data": {
      "text/plain": [
       "array([2, 3, 4, 5, 6, 7])"
      ]
     },
     "execution_count": 120,
     "metadata": {},
     "output_type": "execute_result"
    }
   ],
   "source": [
    "parent1_right_side_filtered = parent1_right_side.copy()\n",
    "parent1_right_side_filtered[filter1] = -1\n",
    "\n",
    "parent1_right_side_filtered"
   ]
  },
  {
   "cell_type": "code",
   "execution_count": 121,
   "metadata": {},
   "outputs": [
    {
     "data": {
      "text/plain": [
       "array([2, 3, 4, 5, 6, 7])"
      ]
     },
     "execution_count": 121,
     "metadata": {},
     "output_type": "execute_result"
    }
   ],
   "source": [
    "parent1_right_side"
   ]
  },
  {
   "cell_type": "code",
   "execution_count": 122,
   "metadata": {},
   "outputs": [
    {
     "data": {
      "text/plain": [
       "array([2, 6, 5, 4, 7, 3])"
      ]
     },
     "execution_count": 122,
     "metadata": {},
     "output_type": "execute_result"
    }
   ],
   "source": [
    "parent2_right_side"
   ]
  },
  {
   "cell_type": "code",
   "execution_count": 123,
   "metadata": {},
   "outputs": [
    {
     "data": {
      "text/plain": [
       "array([1])"
      ]
     },
     "execution_count": 123,
     "metadata": {},
     "output_type": "execute_result"
    }
   ],
   "source": [
    "parent1_left_side"
   ]
  },
  {
   "cell_type": "code",
   "execution_count": 124,
   "metadata": {},
   "outputs": [
    {
     "data": {
      "text/plain": [
       "array([False, False, False, False, False, False])"
      ]
     },
     "execution_count": 124,
     "metadata": {},
     "output_type": "execute_result"
    }
   ],
   "source": [
    "filter2 = np.isin(parent2_right_side, parent1_left_side)\n",
    "filter2"
   ]
  },
  {
   "cell_type": "code",
   "execution_count": 125,
   "metadata": {},
   "outputs": [],
   "source": [
    "parent2_right_side_filtered = parent2_right_side.copy()\n",
    "parent2_right_side_filtered[filter2] = -1\n"
   ]
  },
  {
   "cell_type": "code",
   "execution_count": 126,
   "metadata": {},
   "outputs": [
    {
     "data": {
      "text/plain": [
       "array([], dtype=int32)"
      ]
     },
     "execution_count": 126,
     "metadata": {},
     "output_type": "execute_result"
    }
   ],
   "source": [
    "parent1_right_side[~np.isin(parent1_right_side, parent2_right_side)]"
   ]
  },
  {
   "cell_type": "code",
   "execution_count": 127,
   "metadata": {},
   "outputs": [
    {
     "data": {
      "text/plain": [
       "array([2, 6, 5, 4, 7, 3])"
      ]
     },
     "execution_count": 127,
     "metadata": {},
     "output_type": "execute_result"
    }
   ],
   "source": [
    "parent2_right_side_filtered"
   ]
  },
  {
   "cell_type": "code",
   "execution_count": 128,
   "metadata": {},
   "outputs": [],
   "source": [
    "np.place(parent2_right_side_filtered, parent2_right_side_filtered==-1,parent1_right_side[~np.isin(parent1_right_side, parent2_right_side)])"
   ]
  },
  {
   "cell_type": "code",
   "execution_count": 129,
   "metadata": {},
   "outputs": [
    {
     "data": {
      "text/plain": [
       "array([2, 6, 5, 4, 7, 3])"
      ]
     },
     "execution_count": 129,
     "metadata": {},
     "output_type": "execute_result"
    }
   ],
   "source": [
    "parent2_right_side_filtered"
   ]
  },
  {
   "cell_type": "code",
   "execution_count": 130,
   "metadata": {},
   "outputs": [
    {
     "data": {
      "text/plain": [
       "array([2, 3, 4, 5, 6, 7])"
      ]
     },
     "execution_count": 130,
     "metadata": {},
     "output_type": "execute_result"
    }
   ],
   "source": [
    "parent1_right_side_filtered"
   ]
  },
  {
   "cell_type": "code",
   "execution_count": 131,
   "metadata": {},
   "outputs": [
    {
     "data": {
      "text/plain": [
       "array([2, 3, 4, 5, 6, 7])"
      ]
     },
     "execution_count": 131,
     "metadata": {},
     "output_type": "execute_result"
    }
   ],
   "source": [
    "parent1_right_side"
   ]
  },
  {
   "cell_type": "code",
   "execution_count": 132,
   "metadata": {},
   "outputs": [
    {
     "data": {
      "text/plain": [
       "array([2, 6, 5, 4, 7, 3])"
      ]
     },
     "execution_count": 132,
     "metadata": {},
     "output_type": "execute_result"
    }
   ],
   "source": [
    "parent2_right_side"
   ]
  },
  {
   "cell_type": "code",
   "execution_count": 133,
   "metadata": {},
   "outputs": [],
   "source": [
    "np.place(parent1_right_side_filtered, parent1_right_side_filtered==-1,parent2_right_side[~np.isin(parent2_right_side, parent1_right_side)])"
   ]
  },
  {
   "cell_type": "code",
   "execution_count": 134,
   "metadata": {},
   "outputs": [
    {
     "data": {
      "text/plain": [
       "array([2, 3, 4, 5, 6, 7])"
      ]
     },
     "execution_count": 134,
     "metadata": {},
     "output_type": "execute_result"
    }
   ],
   "source": [
    "parent1_right_side_filtered"
   ]
  },
  {
   "cell_type": "code",
   "execution_count": 135,
   "metadata": {},
   "outputs": [],
   "source": [
    "np.place(parent2_right_side_filtered, \n",
    "                 parent2_right_side_filtered==-1,\n",
    "                 parent1_right_side[~np.isin(parent1_right_side, parent2_right_side)])"
   ]
  },
  {
   "cell_type": "code",
   "execution_count": 136,
   "metadata": {},
   "outputs": [
    {
     "data": {
      "text/plain": [
       "array([2, 6, 5, 4, 7, 3])"
      ]
     },
     "execution_count": 136,
     "metadata": {},
     "output_type": "execute_result"
    }
   ],
   "source": [
    "parent2_right_side_filtered"
   ]
  },
  {
   "cell_type": "code",
   "execution_count": 137,
   "metadata": {},
   "outputs": [
    {
     "data": {
      "text/plain": [
       "array([1])"
      ]
     },
     "execution_count": 137,
     "metadata": {},
     "output_type": "execute_result"
    }
   ],
   "source": [
    "parent1_left_side"
   ]
  },
  {
   "cell_type": "code",
   "execution_count": 138,
   "metadata": {},
   "outputs": [
    {
     "data": {
      "text/plain": [
       "array([1, 2, 6, 5, 4, 7, 3])"
      ]
     },
     "execution_count": 138,
     "metadata": {},
     "output_type": "execute_result"
    }
   ],
   "source": [
    "np.hstack([parent1_left_side, parent2_right_side_filtered])"
   ]
  },
  {
   "cell_type": "code",
   "execution_count": 139,
   "metadata": {},
   "outputs": [
    {
     "data": {
      "text/plain": [
       "array([1, 2, 3, 4, 5, 6, 7])"
      ]
     },
     "execution_count": 139,
     "metadata": {},
     "output_type": "execute_result"
    }
   ],
   "source": [
    "np.hstack([parent2_left_side, parent1_right_side_filtered])"
   ]
  },
  {
   "cell_type": "code",
   "execution_count": 1,
   "metadata": {},
   "outputs": [],
   "source": [
    "import numpy as np"
   ]
  },
  {
   "cell_type": "code",
   "execution_count": 2,
   "metadata": {},
   "outputs": [],
   "source": [
    "np.loadtxt()"
   ]
  },
  {
   "cell_type": "code",
   "execution_count": null,
   "metadata": {},
   "outputs": [],
   "source": []
  },
  {
   "cell_type": "code",
   "execution_count": null,
   "metadata": {},
   "outputs": [],
   "source": []
  },
  {
   "cell_type": "code",
   "execution_count": null,
   "metadata": {},
   "outputs": [],
   "source": []
  },
  {
   "cell_type": "code",
   "execution_count": null,
   "metadata": {},
   "outputs": [],
   "source": []
  },
  {
   "cell_type": "code",
   "execution_count": null,
   "metadata": {},
   "outputs": [],
   "source": []
  },
  {
   "cell_type": "code",
   "execution_count": null,
   "metadata": {},
   "outputs": [],
   "source": []
  },
  {
   "cell_type": "code",
   "execution_count": null,
   "metadata": {},
   "outputs": [],
   "source": []
  },
  {
   "cell_type": "code",
   "execution_count": null,
   "metadata": {},
   "outputs": [],
   "source": []
  },
  {
   "cell_type": "code",
   "execution_count": null,
   "metadata": {},
   "outputs": [],
   "source": []
  },
  {
   "cell_type": "code",
   "execution_count": null,
   "metadata": {},
   "outputs": [],
   "source": []
  },
  {
   "cell_type": "code",
   "execution_count": null,
   "metadata": {},
   "outputs": [],
   "source": []
  },
  {
   "cell_type": "code",
   "execution_count": null,
   "metadata": {},
   "outputs": [],
   "source": []
  },
  {
   "cell_type": "code",
   "execution_count": null,
   "metadata": {},
   "outputs": [],
   "source": []
  },
  {
   "cell_type": "code",
   "execution_count": null,
   "metadata": {},
   "outputs": [],
   "source": []
  },
  {
   "cell_type": "code",
   "execution_count": null,
   "metadata": {},
   "outputs": [],
   "source": []
  },
  {
   "cell_type": "code",
   "execution_count": null,
   "metadata": {},
   "outputs": [],
   "source": []
  }
 ],
 "metadata": {
  "kernelspec": {
   "display_name": "Python 3",
   "language": "python",
   "name": "python3"
  },
  "language_info": {
   "codemirror_mode": {
    "name": "ipython",
    "version": 3
   },
   "file_extension": ".py",
   "mimetype": "text/x-python",
   "name": "python",
   "nbconvert_exporter": "python",
   "pygments_lexer": "ipython3",
   "version": "3.6.7"
  }
 },
 "nbformat": 4,
 "nbformat_minor": 2
}
